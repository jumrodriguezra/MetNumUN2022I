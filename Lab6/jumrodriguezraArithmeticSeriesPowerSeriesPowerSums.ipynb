{
  "nbformat": 4,
  "nbformat_minor": 0,
  "metadata": {
    "colab": {
      "name": "ggarciaroArithmeticSeriesPowerSeriesPowerSums.ipynb",
      "provenance": [],
      "collapsed_sections": [
        "AKWJ1F7hac8T"
      ]
    },
    "kernelspec": {
      "name": "python3",
      "display_name": "Python 3"
    }
  },
  "cells": [
    {
      "cell_type": "markdown",
      "metadata": {
        "id": "r4rXWI4gCN5B"
      },
      "source": [
        "# Arithmetic Series\n",
        "\n",
        "## Modified from Arithmetic Series -  [Wolfram MathWorld](https://mathworld.wolfram.com/ArithmeticSeries.html)\n",
        "\n",
        "\n",
        "An arithmetic sequence $\\{a_k\\}$ for $k=1, 2, ..., $ in which each term is computed from the previous one by adding (or subtracting) a constant $d$. \n",
        "\n",
        "\\begin{align*}\n",
        "a_1 & \\\\\n",
        "a_2 &\\ \\ =\\ \\ a_1 + d  \\\\\n",
        "a_3 &\\ \\ =\\ \\ a_2 + d \\ \\ =\\ \\ a_1 + 2d   \\\\\n",
        "a_4 &\\ \\ =\\ \\ a_3 + d \\ \\ =\\ \\ a_2 + 2d \\ \\ =\\ \\ a_1 + 3d  \\\\\n",
        "\\vdots\\\\\n",
        "a_k &\\ \\ =\\ \\ a_{(k-1)}+d \\ =\\  a_{(k-2)}+2d \\ =\\  \\ldots \\ =\\  \\ a_1+(k-1)d\n",
        "\\end{align*}\n",
        "\n",
        "Therefore, for $k>=1$,\n",
        "\n",
        "$$ a_k = a_1 + (k-1)d$$\n",
        "\n",
        "With $a_1$ and $d$ given.\n",
        "\n",
        "<br /> \n",
        "\n",
        "The sequence of the partial sum of the first $n$ terms of a sequence is called a series, in the case of an arithemetic sequence the series is called an arithmetic series.\n",
        "\n",
        "If  $a_1= 1$ and $d=1$ we have, the simplest arithmnetic sequence,  the natural numbers sequence $\\{a_k = k \\}$ for  $k=1, 2, ..., $  i.e. the seuqnece\n",
        "$$1, 2, ...,$$\n",
        "The  corresponmding series is \n",
        "$$ \n",
        "S_n = 1 + 2+ \\ldots + (n-1)+ n = \\sum_{k=1}^n k\n",
        "$$\n",
        "can be calculated as a function of $n$.\n",
        "\n",
        "Assume that we allign one $S_{n-1}$ with a second  $S_{n-1}$ that have the terms adden reverse order and you add term to term, we have\n",
        "\\begin{array}{llclclclclc}\n",
        "  S_{n-1} &=& 1 &+& 2 &+& \\ldots &+& (n-2) &+& (n-1) \\\\\n",
        "  S_{n-1} &=& (n-1)  &+& (n-2)  &+& \\ldots   &+& 2   &+& 1 \\\\\n",
        "   \\hline \\\\\n",
        "   2S_{n-1} &=& n  &+& n  &+& \\ldots   &+& n   &+& n \\\\\n",
        "\\end{array}\n",
        "so\n",
        "$$  2S_{n-1} = (n-1)n $$\n",
        "then\n",
        "$$  S_{n-1} = \\frac{1}{2} (n-1)n$$\n",
        "therefore \n",
        "$$  S_{n} = \\frac{1}{2} n(n+1)$$\n",
        "\n",
        "\n",
        "\\begin{align*}\n",
        "S_n &= \\sum_{k=1}^n a_k\t\\\\\n",
        "    &= \\sum_{k=1}^n[a_1+(k-1)d]\t\t\\\\\n",
        "    &= na_1 + d \\sum_{k=1}^n(k-1)\t\\\\\n",
        "    &= na_1 + d \\sum_{k=0}^{n-1} k\t\\\\\n",
        "    &= na_1 + d \\sum_{k=1}^{n-1} k\t\\\\\n",
        "    &= na_1 +  \\frac{1}{2} d(n-1)n\\\\\n",
        "\\end{align*}\n",
        "so \n",
        "$$ S_n =  \\frac{1}{2} n[2 a_1 +d(n-1)].$$\n",
        "\n",
        "Note, however, that\n",
        "$$a_1+a_n=a_1+[a_1+d(n-1)]=2a_1+d(n-1),$$ \t\n",
        "so\n",
        "$$S_n = \\frac{1}{2}n(a_1+a_n),$$\n",
        "\n",
        "\n",
        "or $n$ times the arithmetic mean of the first and last terms! This is the trick Gauss used as a schoolboy to solve the problem of summing the integers from $1$ to $100$ given as busy-work by his teacher. While his classmates toiled away doing the addition longhand, Gauss wrote a single number, the correct answer\n",
        "\n",
        "$$\\frac{1}{2}(100)(1+100)=50·101=5050$$ \t\n",
        "on his slate (Burton 1989, pp. 80-81; Hoffman 1998, p. 207). When the answers were examined, Gauss's proved to be the only correct one.\n",
        "\n",
        "<br /> \n",
        "\n",
        "If  the sequence starts at index $0$, $\\{a_k\\}$ for $ k=0, 1, 2, ..., $ we have\n",
        "\n",
        "\\begin{align*}\n",
        "a_0 & \\\\\n",
        "a_1 &\\ \\ =\\ \\ a_0 + d  \\\\\n",
        "a_2 &\\ \\ =\\ \\ a_1 + d \\ \\ =\\ \\ a_0 + 2d   \\\\\n",
        "a_3 &\\ \\ =\\ \\ a_2 + d \\ \\ =\\ \\ a_1 + 2d \\ \\ =\\ \\ a_0 + 3d  \\\\\n",
        "\\vdots\\\\\n",
        "a_k &\\ \\ =\\ \\ a_{(k-1)}+d \\ =\\  a_{(k-2)}+2d \\ =\\  \\ldots \\ = \\  \\ a_1+(k-1)d \\ \\ =\\ \\ a_0+kd\n",
        "\\end{align*}\n",
        "\n",
        "<br /> \n",
        "for given   $a_0$ and $d$.\n",
        "\n",
        "In this case the sum of the first $n$ terms  of  the arithemnetic sequence  is then given by\n",
        "\\begin{align*}\n",
        "S_n &= \\sum_{k=0}^{n-1} a_k\t\\\\\n",
        "    &= \\sum_{k=0}^{n-1}[a_0+kd]\t\t\\\\\n",
        "    &= n a_0 + d \\sum_{k=0}^{n-1} k\t\\\\\n",
        "    &= n a_0 + d \\sum_{k=1}^{n-1} k\t\\\\\n",
        "    &= n a_0+  \\frac{1}{2} d(n-1)n \\\\\n",
        "\\end{align*}\n",
        "so \n",
        "$$ S_n =  \\frac{1}{2} n[2 a_0 + d(n-1)].$$\n",
        "<br /> \n",
        "\n"
      ]
    },
    {
      "cell_type": "markdown",
      "metadata": {
        "id": "GfBh-QHRcods"
      },
      "source": [
        "### Code\n",
        "####  The simplest arithmetic sequence and series\n",
        "\n",
        "The simplest arithmnetic sequence is \n",
        "\n",
        "\n",
        "$$S_n = 1, 2, ...,$$"
      ]
    },
    {
      "cell_type": "markdown",
      "metadata": {
        "id": "n36eWqEXiktl"
      },
      "source": [
        "The following code plots the first $n = 15$ terms of the simplest arithmnetic sequence \n",
        "$$\\{a_n = n\\} \\text{ for } n =1,2,\\ldots  $$\n",
        "i.e\n",
        "$$\\{a_n = n\\} =1,2,\\ldots $$\n",
        "adn the corresponding terms of the simplest arithmnetic series \n",
        "$$  S_n = 1 + 2+ \\ldots + (n-1)+ n = \\sum_{k=1}^n =  \\frac{1}{2} n(n+1)$$\n"
      ]
    },
    {
      "cell_type": "markdown",
      "metadata": {
        "id": "_VyGiunIZknK"
      },
      "source": [
        "Plot"
      ]
    },
    {
      "cell_type": "code",
      "metadata": {
        "colab": {
          "base_uri": "https://localhost:8080/",
          "height": 282
        },
        "id": "gx3Q4uo-ONCi",
        "outputId": "68349dd8-0d79-4815-8f13-be0101906b77"
      },
      "source": [
        "import matplotlib.pyplot as plt\n",
        "\n",
        "n = 15\n",
        "S_n = 0\n",
        "Serie_S_n=[]\n",
        "Sequence_a_n =[]\n",
        "for i in range(1,n+1):\n",
        "  S_n = S_n + i\n",
        "  Serie_S_n.append(S_n)\n",
        "  Sequence_a_n.append(i)\n",
        " \n",
        "plt.plot(Serie_S_n, color='black',label='Serie_S_n')\n",
        "plt.plot(Sequence_a_n, color='red',label='Sequence_a_n')\n",
        "plt.legend()"
      ],
      "execution_count": null,
      "outputs": [
        {
          "output_type": "execute_result",
          "data": {
            "text/plain": [
              "<matplotlib.legend.Legend at 0x7f67ab16b750>"
            ]
          },
          "metadata": {
            "tags": []
          },
          "execution_count": 6
        },
        {
          "output_type": "display_data",
          "data": {
            "image/png": "[encoded data removed]",
            "text/plain": [
              "<Figure size 432x288 with 1 Axes>"
            ]
          },
          "metadata": {
            "tags": [],
            "needs_background": "light"
          }
        }
      ]
    },
    {
      "cell_type": "markdown",
      "metadata": {
        "id": "0ybfJdHxZGvW"
      },
      "source": [
        "The following code computes the  $n=10000000$  term of the airthmetic series\n",
        "$$  S_n = 1 + 2+ \\ldots + (n-1)+ n = \\sum_{k=1}^n =  \\frac{1}{2} n(n+1)$$"
      ]
    },
    {
      "cell_type": "code",
      "metadata": {
        "colab": {
          "base_uri": "https://localhost:8080/"
        },
        "id": "99xYHDQycnol",
        "outputId": "d44dbe7c-c4b8-4a3e-f373-3f84e0fb53ef"
      },
      "source": [
        "n = 10000000\n",
        "S_n = 0\n",
        "for i in range(1,n+1):  # range(n+1) goes form 1 to n\n",
        "  S_n = S_n + i \n",
        "print(S_n)"
      ],
      "execution_count": null,
      "outputs": [
        {
          "output_type": "stream",
          "text": [
            "50000005000000\n"
          ],
          "name": "stdout"
        }
      ]
    },
    {
      "cell_type": "code",
      "metadata": {
        "colab": {
          "base_uri": "https://localhost:8080/"
        },
        "id": "RGCSuDGHeFwH",
        "outputId": "3ca0c97d-f66e-423a-d934-ef335d852159"
      },
      "source": [
        "(1/2)*n*(n+1)"
      ],
      "execution_count": null,
      "outputs": [
        {
          "output_type": "execute_result",
          "data": {
            "text/plain": [
              "50000005000000.0"
            ]
          },
          "metadata": {
            "tags": []
          },
          "execution_count": 8
        }
      ]
    },
    {
      "cell_type": "markdown",
      "metadata": {
        "id": "bg8zxAhcecpk"
      },
      "source": [
        "The following code computes the $n=10000000$ term of the airthmetic series \n",
        "$$ S_n  = \\sum_{k=1}^n a_k$$\n",
        "\n",
        "<br /> \n",
        "for the airthmetic sequence $a_k = 10 + 3 (k-1) $ for $k=1,2,\\ldots$\n",
        "\n",
        "<br /> \n",
        "$$ 10,13,16,19,21,\\ldots$$\n"
      ]
    },
    {
      "cell_type": "markdown",
      "metadata": {
        "id": "hg3ixQ3bZiVh"
      },
      "source": [
        "Plot"
      ]
    },
    {
      "cell_type": "code",
      "metadata": {
        "colab": {
          "base_uri": "https://localhost:8080/"
        },
        "id": "w8FP1XqSgnie",
        "outputId": "65b8a4c7-f7b9-43e2-f1ae-d7d6530f04e2"
      },
      "source": [
        "n = 10000000\n",
        "a = 10\n",
        "d = 3\n",
        "S_n = 0\n",
        "for i in range(1,n+1):  # range(n+19 goes form 1 to n\n",
        "  S_n = S_n + a + d * (i-1) \n",
        "print(S_n)"
      ],
      "execution_count": null,
      "outputs": [
        {
          "output_type": "stream",
          "text": [
            "150000085000000\n"
          ],
          "name": "stdout"
        }
      ]
    },
    {
      "cell_type": "code",
      "metadata": {
        "colab": {
          "base_uri": "https://localhost:8080/"
        },
        "id": "g_38RfB_hgg2",
        "outputId": "8e8de420-8fdc-443e-9394-f533187fa843"
      },
      "source": [
        "n*(2*a +d*(n-1))/2"
      ],
      "execution_count": null,
      "outputs": [
        {
          "output_type": "execute_result",
          "data": {
            "text/plain": [
              "150000085000000.0"
            ]
          },
          "metadata": {
            "tags": []
          },
          "execution_count": 10
        }
      ]
    },
    {
      "cell_type": "markdown",
      "metadata": {
        "id": "r9qzONSlZq2q"
      },
      "source": [
        "## Your own example of arithmetic series "
      ]
    },
    {
      "cell_type": "markdown",
      "metadata": {
        "id": "7LNQeNHBr5fm"
      },
      "source": [
        "### First example\n",
        "We have an arithethic sequence $a$, whose first element is $a_0$. The value of  $a_{0} = 3$ and $d= 3$\n",
        "\n",
        "Therfore, each element of the sequence is defined as:\n",
        "\n",
        "\\begin{align*}\n",
        " a_{k} = a_{0} + kd & \\\\\n",
        " a_{k} = 3+3k\n",
        "\\end{align*}\n",
        "\n",
        "If we then define the series $S$ where\n",
        "\n",
        "\\begin{align*}\n",
        "S_n &= \\sum_{k=0}^{n} a_k\t\\\\\n",
        "    &= \\sum_{k=0}^{n}[3+3k]\t\t\\\\\n",
        "    &= 3 + \\sum_{k=1}^{n}[3+3k]\t\t\\\\\n",
        "    &= 3 + 3n + 3 \\sum_{k=0}^{n} k\t\\\\\n",
        "    &= 3 + 3n+  \\frac{3}{2}(n+1)n \\\\\n",
        "\\end{align*}\n",
        "\n",
        " or, if we factorice\n",
        "\n",
        "$$ S_n =  3+ \\frac{1}{2} n[6 + 3(n+1)].$$"
      ]
    },
    {
      "cell_type": "markdown",
      "metadata": {
        "id": "LgCGea81v9qv"
      },
      "source": [
        "PLOT\n",
        "\n",
        "We plot the first 15 elements of the arithmetic sequence and series"
      ]
    },
    {
      "cell_type": "code",
      "metadata": {
        "id": "sJ1yhp4lNVw9",
        "colab": {
          "base_uri": "https://localhost:8080/",
          "height": 370
        },
        "outputId": "249479fe-8788-4b87-a53b-85efa4cfe01e"
      },
      "source": [
        "import pandas as pd\n",
        "n = 15\n",
        "S_n = 0\n",
        "Serie_S_n= pd.Series(index = range(0,n))\n",
        "Sequence_a_n =pd.Series(index = range(0,n))\n",
        "for i in range(0,n+1):\n",
        "  S_n = S_n + 3 + 3*i\n",
        "  Serie_S_n[i] = S_n\n",
        "  Sequence_a_n[i] = 3 + 3*i\n",
        " \n",
        "plt.plot(Serie_S_n, color='blue',label='Serie_S_n')\n",
        "plt.plot(Sequence_a_n, color='green',label='Sequence_a_n')\n",
        "plt.legend()\n"
      ],
      "execution_count": null,
      "outputs": [
        {
          "output_type": "stream",
          "text": [
            "/usr/local/lib/python3.7/dist-packages/ipykernel_launcher.py:4: DeprecationWarning: The default dtype for empty Series will be 'object' instead of 'float64' in a future version. Specify a dtype explicitly to silence this warning.\n",
            "  after removing the cwd from sys.path.\n",
            "/usr/local/lib/python3.7/dist-packages/ipykernel_launcher.py:5: DeprecationWarning: The default dtype for empty Series will be 'object' instead of 'float64' in a future version. Specify a dtype explicitly to silence this warning.\n",
            "  \"\"\"\n"
          ],
          "name": "stderr"
        },
        {
          "output_type": "execute_result",
          "data": {
            "text/plain": [
              "<matplotlib.legend.Legend at 0x7f67a65db990>"
            ]
          },
          "metadata": {
            "tags": []
          },
          "execution_count": 67
        },
        {
          "output_type": "display_data",
          "data": {
            "image/png": "[encoded data removed]",
            "text/plain": [
              "<Figure size 432x288 with 1 Axes>"
            ]
          },
          "metadata": {
            "tags": [],
            "needs_background": "light"
          }
        }
      ]
    },
    {
      "cell_type": "markdown",
      "metadata": {
        "id": "7G895xDkzA-k"
      },
      "source": [
        "When we calculate it's 10000000th value by the recursive way"
      ]
    },
    {
      "cell_type": "code",
      "metadata": {
        "colab": {
          "base_uri": "https://localhost:8080/"
        },
        "id": "turdl2C1yxvG",
        "outputId": "98545658-5a5a-4d56-8db6-76368fd30779"
      },
      "source": [
        "n = 10000000\n",
        "S_n = 0\n",
        "for i in range(0, n +1):  #range goes form 0 to n\n",
        "  S_n = S_n + 3+ 3*i\n",
        "print(S_n)"
      ],
      "execution_count": null,
      "outputs": [
        {
          "output_type": "stream",
          "text": [
            "150000045000003\n"
          ],
          "name": "stdout"
        }
      ]
    },
    {
      "cell_type": "markdown",
      "metadata": {
        "id": "bF9NDTPJ0YwD"
      },
      "source": [
        "Or by the simplified formula"
      ]
    },
    {
      "cell_type": "code",
      "metadata": {
        "colab": {
          "base_uri": "https://localhost:8080/"
        },
        "id": "hgzSqVPb0ZIp",
        "outputId": "ceea72bf-751b-47dc-9de7-5b7fe1526858"
      },
      "source": [
        "n = 10000000\n",
        "print (3 + 3*n + (3/2)*(n + 1)*n)\n",
        "print(3 + (1/2)*n*(6 + 3*(n + 1)))\n"
      ],
      "execution_count": null,
      "outputs": [
        {
          "output_type": "stream",
          "text": [
            "150000045000003.0\n",
            "150000045000003.0\n"
          ],
          "name": "stdout"
        }
      ]
    },
    {
      "cell_type": "markdown",
      "metadata": {
        "id": "Mc4KNsOw730X"
      },
      "source": [
        "### Second example\n",
        "For our second example we have an arithethic seqeuence $a$ atarting from $a_{1}$, where $a_{1} = 20$ and $d= 17$\n",
        "\n",
        "Therfore, each element of the sequence is defined as:\n",
        "\n",
        "\\begin{align*}\n",
        " a_k &= a_1 + (k-1)d \\\\\n",
        "&  = 20 + (k-1)17 \\\\\n",
        "&= 20 + 17k - 17 \\\\\n",
        "&= 3 + 17k \\\\\n",
        "\\end{align*}\n",
        "\n",
        "We can define the seies as:\n",
        "\\begin{align*}\n",
        "S_n &= \\sum_{k=1}^n a_k\t\\\\\n",
        "    &= \\sum_{k=1}^n[3+17k]\t\t\\\\\n",
        "    &= 3n + 17 \\sum_{k=1}^n(k)\t\\\\\n",
        "    &= 3n +  \\frac{17}{2} (n+1)n\\\\\n",
        "\\end{align*}\n",
        "\n",
        "so, factorising:\n",
        "\n",
        "\\begin{align*}\n",
        "S_n &=  \\frac{n}{2}[6 +17(n+1)] \\\\\n",
        "    &= \\frac{n}{2}[6 +17n + 17 -17 + 17)]\t\t\\\\\n",
        "    &= \\frac{n}{2}[(6 + 17 +17) + (17n -17)]\t\t\\\\\n",
        "    &= \\frac{n}{2}[40 + 17(n - 1)]\\\\\n",
        "    &= \\frac{n}{2}[2a_{1} + d(n - 1)]\\\\\n",
        "\\end{align*}\n",
        "\n",
        "\n",
        "Taking into account that\n",
        "$$a_1+a_n= a_1 +[a_1+d(n-1)]=2a_1+d(n-1),$$ \t\n",
        "each element of the series would be\n",
        "$$S_n = \\frac{n}{2}( a_{1} + a_{n})$$\n",
        "$$S_n = \\frac{n}{2}( 20 + (3 + 17n))$$\n",
        "$$S_n = \\frac{n}{2}( 23 + 17n)$$\n"
      ]
    },
    {
      "cell_type": "markdown",
      "metadata": {
        "id": "W5IJNNELr4kY"
      },
      "source": [
        "PLOT"
      ]
    },
    {
      "cell_type": "code",
      "metadata": {
        "id": "I_oHrwc873dU",
        "colab": {
          "base_uri": "https://localhost:8080/",
          "height": 370
        },
        "outputId": "03f8cf8a-04d5-4ad9-909b-47f60ac1c96d"
      },
      "source": [
        "n = 15\n",
        "S_n = 0\n",
        "Serie_S_n= pd.Series(index = range(1,n))\n",
        "Sequence_a_n =pd.Series(index = range(1,n))\n",
        "for i in range(1,n+1):\n",
        "  S_n = S_n + 3 + 17*i\n",
        "  Serie_S_n[i] = S_n\n",
        "  Sequence_a_n[i] = 3 + 17*i\n",
        " \n",
        "plt.plot(Serie_S_n, color='blue',label='Serie_S_n')\n",
        "plt.plot(Sequence_a_n, color='green',label='Sequence_a_n')\n",
        "plt.legend()"
      ],
      "execution_count": null,
      "outputs": [
        {
          "output_type": "stream",
          "text": [
            "/usr/local/lib/python3.7/dist-packages/ipykernel_launcher.py:3: DeprecationWarning: The default dtype for empty Series will be 'object' instead of 'float64' in a future version. Specify a dtype explicitly to silence this warning.\n",
            "  This is separate from the ipykernel package so we can avoid doing imports until\n",
            "/usr/local/lib/python3.7/dist-packages/ipykernel_launcher.py:4: DeprecationWarning: The default dtype for empty Series will be 'object' instead of 'float64' in a future version. Specify a dtype explicitly to silence this warning.\n",
            "  after removing the cwd from sys.path.\n"
          ],
          "name": "stderr"
        },
        {
          "output_type": "execute_result",
          "data": {
            "text/plain": [
              "<matplotlib.legend.Legend at 0x7f67a657e650>"
            ]
          },
          "metadata": {
            "tags": []
          },
          "execution_count": 80
        },
        {
          "output_type": "display_data",
          "data": {
            "image/png": "[encoded data removed]",
            "text/plain": [
              "<Figure size 432x288 with 1 Axes>"
            ]
          },
          "metadata": {
            "tags": [],
            "needs_background": "light"
          }
        }
      ]
    },
    {
      "cell_type": "markdown",
      "metadata": {
        "id": "R_MGlP5cJEd6"
      },
      "source": [
        "When we calculate it's 10000000th value by the recursive way"
      ]
    },
    {
      "cell_type": "code",
      "metadata": {
        "colab": {
          "base_uri": "https://localhost:8080/"
        },
        "id": "JUvHzWLEJEd7",
        "outputId": "16264cde-6838-4a4a-9862-795a2c0f648e"
      },
      "source": [
        "n = 10000000\n",
        "S_n = 0\n",
        "for i in range(1, n +1):  #range goes form 0 to n\n",
        "  S_n = S_n + 3 + 17*i\n",
        "print(S_n)"
      ],
      "execution_count": null,
      "outputs": [
        {
          "output_type": "stream",
          "text": [
            "850000115000000\n"
          ],
          "name": "stdout"
        }
      ]
    },
    {
      "cell_type": "markdown",
      "metadata": {
        "id": "vnDaS1ZOJWYq"
      },
      "source": [
        "Or by the simplified formula"
      ]
    },
    {
      "cell_type": "code",
      "metadata": {
        "colab": {
          "base_uri": "https://localhost:8080/"
        },
        "id": "hSNRw64mJWYs",
        "outputId": "1895df27-5264-4239-fcf6-3040719d8094"
      },
      "source": [
        "n = 10000000\n",
        "print(n/2*(40 + 17*(n - 1)))\n",
        "print(n/2*(23 + 17*n))"
      ],
      "execution_count": null,
      "outputs": [
        {
          "output_type": "stream",
          "text": [
            "850000115000000.0\n",
            "850000115000000.0\n"
          ],
          "name": "stdout"
        }
      ]
    },
    {
      "cell_type": "markdown",
      "metadata": {
        "id": "AKWJ1F7hac8T"
      },
      "source": [
        "# Geometric Series\n",
        "\n",
        "## Modified from Arithmetic Series -  [Wolfram MathWorld](https://mathworld.wolfram.com/GeometricSeries.html)\n"
      ]
    },
    {
      "cell_type": "markdown",
      "metadata": {
        "id": "W5zx_-nR81GI"
      },
      "source": [
        "An geometric series is the sum of a sequence $\\{a_k\\}$ for $k=1, 2, ..., $ in which each term is computed from the previous one by adding (or subtracting) a constant $d$. \n",
        "\n",
        "\\begin{align*}\n",
        "a_0 &\\ \\ =\\ \\ r^0 \\ \\ =\\ \\ 1\\\\\n",
        "a_1 &\\ \\ =\\ \\ a_0 *  r \\ \\ =\\ \\  r\\\\\n",
        "a_2 &\\ \\ =\\ \\ a_1 * r\\ \\ =\\ \\ a_0 * r^2  \\ \\ =\\ \\ r^2 \\\\\n",
        "a_3 &\\ \\ =\\ \\ a_2 * r \\ \\ =\\ \\ a_0 * r^3 \\ \\ =\\ \\  r^3  \\\\\n",
        "a_4 &\\ \\ =\\ \\ a_3 * r\\ \\  =\\ \\ a_0 * r^4 \\ \\  =\\ \\ r^4  \\\\\n",
        "\\vdots\\\\\n",
        "a_k &\\ \\ =\\ \\ a_{(k-1)}* r \\ =\\   a_0 * r^k \\ \\  =\\ \\  r^k\n",
        "\\end{align*}\n",
        "\n",
        "The sum of the first $n$ terms  of  the geometric sequence (called an geometric serie)  is then given by\n",
        "$$\n",
        "\\begin{array}{ll}\n",
        "S_n &=  1 + r + r^2 + \\cdots + r^{n-1} +r^n \\\\\n",
        " &=  (1 + r + r^2 + \\cdots + r^{n-1} ) +r^n \\\\\n",
        " &= S_{n-1}  +r^n \n",
        "\\end{array}\n",
        "$$\n",
        "\n",
        "$$\n",
        "\\begin{array}{ll}\n",
        "S_n &=  1 + r + r^2 + \\cdots + r^{n-1} +r^n \\\\\n",
        " &=  1 + (r + r^2 + \\cdots + r^{n-1}  +r^n)  \\\\\n",
        " &=   1 + r (1 +  r  + r^2 + \\cdots + r^{n-1} )  \\\\\n",
        "  &=   1 + r   S_{n-1} \n",
        "\\end{array}\n",
        "$$\n",
        "\n",
        "Then\n",
        "$$\n",
        " S_{n-1}  +r^n =   1 + r   S_{n-1} \n",
        "$$\n",
        "\n",
        "Therefore\n",
        "$$\n",
        " S_{n-1} (1 -r)   +r^n =   1 - r^n \n",
        "$$\n",
        "\n",
        "$$\n",
        " S_{n-1}   =   \\frac{1 - r^n }{1 -r}\n",
        "$$\n",
        "\n",
        "$$\n",
        " S_{n}   =   \\frac{1 - r^{n+1} }{1 -r}  = \\frac{ r^{n+1} - 1}{r -1}\n",
        "$$\n"
      ]
    },
    {
      "cell_type": "markdown",
      "metadata": {
        "id": "CDUYfT8k8crr"
      },
      "source": [
        "## Nodes in Complete Binary Tree with $L=0,1,2,\\cdots , L-1$ levels \n",
        "\n",
        "![](https://raw.githubusercontent.com/gjhernandezp/algorithms/master/Lab7/ComBinTree.png)\n",
        "\n",
        "In a complete binary tree you have in ecah level $k =0,1,2,\\cdots $  $ 2^k $\n",
        "\n",
        "$$\n",
        "\\begin{array}{ll}\n",
        "\\text {Level } 0 \\rightarrow 2^0 = 1 \\text { node (root)} \\\\\n",
        "\\text {Level } 1 \\rightarrow 2^1 = 2 \\text { nodes} \\\\\n",
        "\\text {Level } 2 \\rightarrow 2^2 = 4 \\text { nodes} \\\\\n",
        "\\text {Level } 3 \\rightarrow 2^3 = 8 \\text { nodes} \\\\\n",
        "\\vdots\\\\\n",
        "\\text {Level } k \\rightarrow 2^k  \\text { nodes} \\\\\n",
        "\\end{array}\n",
        "$$\n",
        "\n",
        "nodes, with $l = 0,1,2, ... $ the level\n",
        "\n",
        "Total number of the complte tree with $L=0,1,2,\\cdots , L-1$ levels\n",
        "\n",
        "$$ \n",
        "2^0 + 2^1 + 2^2 + \\cdots +2^{L-1}  = 1 + 2 + 4 + \\cdots +2^{L-1} = \\sum_{k=0}^{L-1} 2^k = \\frac{ 2^{L} - 1}{2 -1} = 2^{L} - 1\n",
        "$$"
      ]
    },
    {
      "cell_type": "markdown",
      "metadata": {
        "id": "YiWlrhLZNMX9"
      },
      "source": [
        "### Code"
      ]
    },
    {
      "cell_type": "markdown",
      "metadata": {
        "id": "Ryj6zxvjyLk1"
      },
      "source": [
        "Plot:"
      ]
    },
    {
      "cell_type": "code",
      "metadata": {
        "colab": {
          "base_uri": "https://localhost:8080/",
          "height": 370
        },
        "id": "pAkNK37wyX4r",
        "outputId": "a59dad6d-7f7b-4c12-c89c-c1e29ded773c"
      },
      "source": [
        "n = 15\n",
        "S_n = 0\n",
        "r = 2\n",
        "Serie_S_n= pd.Series(index = range(0,n+1))\n",
        "Sequence_a_n =pd.Series(index = range(0,n+1))\n",
        "for i in range(0, n+1):\n",
        "  S_n = r*S_n + 1\n",
        "  Serie_S_n[i] = S_n\n",
        "  Sequence_a_n[i] = r**i\n",
        "\n",
        "\n",
        "plt.plot(Serie_S_n, color='blue',label='Serie_S_n')\n",
        "plt.plot(Sequence_a_n, color='green',label='Sequence_a_n')\n",
        "plt.legend()\n",
        "\n"
      ],
      "execution_count": null,
      "outputs": [
        {
          "output_type": "stream",
          "text": [
            "/usr/local/lib/python3.7/dist-packages/ipykernel_launcher.py:4: DeprecationWarning: The default dtype for empty Series will be 'object' instead of 'float64' in a future version. Specify a dtype explicitly to silence this warning.\n",
            "  after removing the cwd from sys.path.\n",
            "/usr/local/lib/python3.7/dist-packages/ipykernel_launcher.py:5: DeprecationWarning: The default dtype for empty Series will be 'object' instead of 'float64' in a future version. Specify a dtype explicitly to silence this warning.\n",
            "  \"\"\"\n"
          ],
          "name": "stderr"
        },
        {
          "output_type": "execute_result",
          "data": {
            "text/plain": [
              "<matplotlib.legend.Legend at 0x7f67a605a050>"
            ]
          },
          "metadata": {
            "tags": []
          },
          "execution_count": 127
        },
        {
          "output_type": "display_data",
          "data": {
            "image/png": "[encoded data removed]",
            "text/plain": [
              "<Figure size 432x288 with 1 Axes>"
            ]
          },
          "metadata": {
            "tags": [],
            "needs_background": "light"
          }
        }
      ]
    },
    {
      "cell_type": "markdown",
      "metadata": {
        "id": "nPPWMuiKx8iq"
      },
      "source": [
        "Doing it by the recursive way, we calculate the 10000th number, that is big enough:"
      ]
    },
    {
      "cell_type": "code",
      "metadata": {
        "id": "YvMkYU8UNOll",
        "colab": {
          "base_uri": "https://localhost:8080/"
        },
        "outputId": "4d1ab9fa-2269-4818-ff10-235cc396e32c"
      },
      "source": [
        "n = 10000\n",
        "S_n = 0\n",
        "r = 2\n",
        "for i in range(0, n+1):\n",
        "  S_n = r*S_n + 1\n",
        "S_n"
      ],
      "execution_count": null,
      "outputs": [
        {
          "output_type": "execute_result",
          "data": {
            "text/plain": [
              "39901262337615167697674843253671701676469936637723849097040178997058877660443893263839923368072389195798662258846418248543112982698827562235187571864192647915711460093587589053530493102532119791041100173836386623085017216921236209371018149732179249776180979789676018507883266515701243136618947805113824776130450193287748882093519743253970906445737076323388631551259281525673761521464457070183282952367912762917938927798821681921072535642129242854666788073051131299061206285360469938800671868633302918595546559331551212345164062815988396359214756491367524560074605770974503801668929162909301115859202829667843231469176278514190759538238555601653915471348888246124037515672651005456647578541420747605732786062856266482803248391343381148122839308684649277602497712294610414863984519223592500261985720483416681615211864640322536984576992511682625688123073477902974228512630222179491028406627640405863281915192929512020811691683132144089925734033030123841262008372844551817341801149212835713903822912110136502500812015039684523796118474236108889576145812790485096678443965414808946324753521693226067557412079606826394266987309245401126339874911016483561945621966582628807143755049537019714553875852866443198799753773321616737675676055286565550344547315145489568224588779467621723214846506583949626240395208356563931394951796329062516868271919725568260256370812566953298177381042095161765231647923971540244814088661166151738078639209206809946313166417344211826601807505646831079490788795430514910581020424621894643221506949651481550547972696596996681513875911293277243749138998558033144207402728866271634428623582796445967691694668880541928365702010145855496729101157269002201705975624778947857399081668692317614087918237971630291558354287239397456262918967566404162949964343716022778142456501811653634872441154951842835307431375451229809165809984922057260163071166616260203975351712468687077910818351246801689775052325287137297667038927440754586480188912493846508700801356054547675510752813453797272482074982821933437114101518196200493579760356543851906762564843908056605518816897910029353336779395993772483272626752787806746911602815273483755422110768451478998220372936439393163302970260988444739895429526138310936435365752400725554515447562730663222393622561585338963774402597287321537103279721069204595743115035894770492738893846175788531896434016102240644730992576338071478242736676787183512837467701021940543227830879181983196309308834672623313872062244499875939998453563464716046223725289150598271516350016399678472569230499762177920464488724347543236172714030936968117244659585707751246973112881073925244037927142057624723135025086676606540058195337301137114315011033455037798388259422675380299832362630343088015457301146379114901840660370609694227636630814648106638076924168072843527407823101279578001485707344392561806955949066640936737591737160475904437258240161485639102635896315248896597036923019409776054549443149376263189500819464230160996380911606833653899574282632126421372783023363548609585193418751"
            ]
          },
          "metadata": {
            "tags": []
          },
          "execution_count": 100
        }
      ]
    },
    {
      "cell_type": "markdown",
      "metadata": {
        "id": "jJQB1BSM7A84"
      },
      "source": [
        "Doing it by the simplified formula"
      ]
    },
    {
      "cell_type": "code",
      "metadata": {
        "colab": {
          "base_uri": "https://localhost:8080/"
        },
        "id": "_zsklMOo7FIc",
        "outputId": "5484cbd8-b639-473c-80b2-acd7c434a318"
      },
      "source": [
        "n = 10000\n",
        "2**(n+1) - 1"
      ],
      "execution_count": null,
      "outputs": [
        {
          "output_type": "execute_result",
          "data": {
            "text/plain": [
              "39901262337615167697674843253671701676469936637723849097040178997058877660443893263839923368072389195798662258846418248543112982698827562235187571864192647915711460093587589053530493102532119791041100173836386623085017216921236209371018149732179249776180979789676018507883266515701243136618947805113824776130450193287748882093519743253970906445737076323388631551259281525673761521464457070183282952367912762917938927798821681921072535642129242854666788073051131299061206285360469938800671868633302918595546559331551212345164062815988396359214756491367524560074605770974503801668929162909301115859202829667843231469176278514190759538238555601653915471348888246124037515672651005456647578541420747605732786062856266482803248391343381148122839308684649277602497712294610414863984519223592500261985720483416681615211864640322536984576992511682625688123073477902974228512630222179491028406627640405863281915192929512020811691683132144089925734033030123841262008372844551817341801149212835713903822912110136502500812015039684523796118474236108889576145812790485096678443965414808946324753521693226067557412079606826394266987309245401126339874911016483561945621966582628807143755049537019714553875852866443198799753773321616737675676055286565550344547315145489568224588779467621723214846506583949626240395208356563931394951796329062516868271919725568260256370812566953298177381042095161765231647923971540244814088661166151738078639209206809946313166417344211826601807505646831079490788795430514910581020424621894643221506949651481550547972696596996681513875911293277243749138998558033144207402728866271634428623582796445967691694668880541928365702010145855496729101157269002201705975624778947857399081668692317614087918237971630291558354287239397456262918967566404162949964343716022778142456501811653634872441154951842835307431375451229809165809984922057260163071166616260203975351712468687077910818351246801689775052325287137297667038927440754586480188912493846508700801356054547675510752813453797272482074982821933437114101518196200493579760356543851906762564843908056605518816897910029353336779395993772483272626752787806746911602815273483755422110768451478998220372936439393163302970260988444739895429526138310936435365752400725554515447562730663222393622561585338963774402597287321537103279721069204595743115035894770492738893846175788531896434016102240644730992576338071478242736676787183512837467701021940543227830879181983196309308834672623313872062244499875939998453563464716046223725289150598271516350016399678472569230499762177920464488724347543236172714030936968117244659585707751246973112881073925244037927142057624723135025086676606540058195337301137114315011033455037798388259422675380299832362630343088015457301146379114901840660370609694227636630814648106638076924168072843527407823101279578001485707344392561806955949066640936737591737160475904437258240161485639102635896315248896597036923019409776054549443149376263189500819464230160996380911606833653899574282632126421372783023363548609585193418751"
            ]
          },
          "metadata": {
            "tags": []
          },
          "execution_count": 102
        }
      ]
    },
    {
      "cell_type": "markdown",
      "metadata": {
        "id": "Dd3RWDwJe2xD"
      },
      "source": [
        "## Zenon Arrow\n",
        "\n",
        "![](https://raw.githubusercontent.com/gjhernandezp/algorithms/master/Lab7/zeno-paradox-arrow.png)\n",
        "\n",
        "https://leseditionsdeschavonnes.com/2018/10/15/the-paradox-of-achilles-and-the-tortoise/\n",
        "\n",
        "The zenon arrow paradox says: if the distance to the target is, for example 1 meter, the arrow must travel 1/2 (half) at + 1/4 (a quarter) + 1/8 (the eighth) + 1/16 (the sixteenth) + …. of the distance set, and so to infinity. It will get close to the meter of distance, but will never reach it. It'l will put an infinite time and therefore never reach its target.\n",
        "\n",
        "\n",
        "However, as the next formula shows, if the value of n goes to the infinity, the limit will then tend toward to a specific value, this time, to 2.\n",
        "$$ \n",
        "\\lim_{n\\rightarrow \\infty} \\left\\{\\left(\\frac{1}{2}\\right)^0 + \\left(\\frac{1}{2}\\right)^1 +\\left(\\frac{1}{2}\\right)^2 + \\cdots +\\left(\\frac{1}{2}\\right)^{n} \\right\\} = \\lim_{n\\rightarrow \\infty} \\left\\{ 1 +\\frac{1}{2} + \\frac{1}{4} + \\frac{1}{8} + \\cdots +\\frac{1}{2^{n}}\\right\\}  = \\lim_{n\\rightarrow \\infty} \\sum_{k=0}^{n} \\left(\\frac{1}{2}\\right)^k = \\lim_{n\\rightarrow \\infty} \\frac{ 1- \\left(\\frac{1}{2}\\right)^n  }{1 - \\left(\\frac{1}{2}\\right) } = \\frac{ 1}{1 - \\left(\\frac{1}{2}\\right)} = 2\n",
        "$$"
      ]
    },
    {
      "cell_type": "markdown",
      "metadata": {
        "id": "R-J4EekBNPkd"
      },
      "source": [
        "### Code"
      ]
    },
    {
      "cell_type": "markdown",
      "metadata": {
        "id": "ybkA6_XfPIVT"
      },
      "source": [
        "Plot:\n",
        "\n",
        "We plot the distance i will recover at the "
      ]
    },
    {
      "cell_type": "code",
      "metadata": {
        "colab": {
          "base_uri": "https://localhost:8080/",
          "height": 370
        },
        "id": "aoybrIVXPIVa",
        "outputId": "39b90fa3-448a-442f-dde1-b6bf0a8c3a11"
      },
      "source": [
        "n = 15\n",
        "S_n = 0\n",
        "r = 1/2\n",
        "Serie_S_n= pd.Series(index = range(0,n+1))\n",
        "Sequence_a_n =pd.Series(index = range(0,n+1))\n",
        "for i in range(0, n+1):\n",
        "  S_n = r*S_n + 1\n",
        "  Serie_S_n[i] = S_n\n",
        "  Sequence_a_n[i] = r**i\n",
        "\n",
        "\n",
        "plt.plot(Serie_S_n, color='blue',label='Serie_S_n')\n",
        "plt.plot(Sequence_a_n, color='green',label='Sequence_a_n')\n",
        "plt.legend()\n"
      ],
      "execution_count": null,
      "outputs": [
        {
          "output_type": "stream",
          "text": [
            "/usr/local/lib/python3.7/dist-packages/ipykernel_launcher.py:4: DeprecationWarning: The default dtype for empty Series will be 'object' instead of 'float64' in a future version. Specify a dtype explicitly to silence this warning.\n",
            "  after removing the cwd from sys.path.\n",
            "/usr/local/lib/python3.7/dist-packages/ipykernel_launcher.py:5: DeprecationWarning: The default dtype for empty Series will be 'object' instead of 'float64' in a future version. Specify a dtype explicitly to silence this warning.\n",
            "  \"\"\"\n"
          ],
          "name": "stderr"
        },
        {
          "output_type": "execute_result",
          "data": {
            "text/plain": [
              "<matplotlib.legend.Legend at 0x7f67a60d6d50>"
            ]
          },
          "metadata": {
            "tags": []
          },
          "execution_count": 126
        },
        {
          "output_type": "display_data",
          "data": {
            "image/png": "[encoded data removed]",
            "text/plain": [
              "<Figure size 432x288 with 1 Axes>"
            ]
          },
          "metadata": {
            "tags": [],
            "needs_background": "light"
          }
        }
      ]
    },
    {
      "cell_type": "markdown",
      "metadata": {
        "id": "XcIfK9O_QEA9"
      },
      "source": [
        "As we could see in the plot, the sequence gets closer to 0 and the series gets closer to 2 when the number start growing\n",
        "\n",
        "Now, we are going to calculate the value of a series to a big number:"
      ]
    },
    {
      "cell_type": "code",
      "metadata": {
        "colab": {
          "base_uri": "https://localhost:8080/"
        },
        "id": "LHcxFLSlQpp1",
        "outputId": "d028fc75-a1f1-4f79-8ac2-9e1c5ff48d85"
      },
      "source": [
        "n = 10000\n",
        "S_n = 0\n",
        "r = 1/2\n",
        "for i in range(0, n+1):\n",
        "  S_n = r*S_n + 1\n",
        "S_n"
      ],
      "execution_count": null,
      "outputs": [
        {
          "output_type": "execute_result",
          "data": {
            "text/plain": [
              "2.0"
            ]
          },
          "metadata": {
            "tags": []
          },
          "execution_count": 117
        }
      ]
    },
    {
      "cell_type": "markdown",
      "metadata": {
        "id": "SJsYV4hhQ04a"
      },
      "source": [
        "Now by the simplified formula\n",
        "\n",
        "\\begin{align*}\n",
        "Sn &= \\frac{1 - (\\frac{1}{2})^{n+1}}{1-\\frac{1}{2}}\\\\\n",
        "&= \\frac{1 - (\\frac{1}{2})^{n+1}}{\\frac{1}{2}}\\\\\n",
        "&= 2(1 - (\\frac{1}{2})^{n+1})\\\\\n",
        "\\end{align*}"
      ]
    },
    {
      "cell_type": "code",
      "metadata": {
        "colab": {
          "base_uri": "https://localhost:8080/"
        },
        "id": "Z8uZ8QbbRy0X",
        "outputId": "9b10b001-4b55-4a7a-8565-d1be10f7b397"
      },
      "source": [
        "n = 10000\n",
        "2*(1-(1/2)**(n+1))"
      ],
      "execution_count": null,
      "outputs": [
        {
          "output_type": "execute_result",
          "data": {
            "text/plain": [
              "2.0"
            ]
          },
          "metadata": {
            "tags": []
          },
          "execution_count": 118
        }
      ]
    },
    {
      "cell_type": "markdown",
      "metadata": {
        "id": "6Ihx7Lx7STA1"
      },
      "source": [
        "As we could notice, the result is 2 for a big enough number of recursions"
      ]
    },
    {
      "cell_type": "markdown",
      "metadata": {
        "id": "ic8NyoUISmck"
      },
      "source": [
        "## Your own example of geometric series "
      ]
    },
    {
      "cell_type": "markdown",
      "metadata": {
        "id": "I1ZY1xqTSmcl"
      },
      "source": [
        "### First example\n",
        "We have an geometric sequence $a$, whose value r = 5 therfore, each element of the sequence is defined as:\n",
        "\n",
        "\\begin{align*}\n",
        "a_k &= r^k \\\\\n",
        "&= 5^{k} \\\\\n",
        "\\end{align*}\n",
        "\n",
        "Then we then define the series $S$ where\n",
        "\n",
        "$$\n",
        "\\begin{array}{ll}\n",
        "S_n &= S_{n-1}  +r^n\\\\ \n",
        "&= S_{n-1}  +5^n \n",
        "\\end{array}\n",
        "$$\n",
        "or this other way\n",
        "\\begin{array}{ll}\n",
        "S_n &=  1 + r*S_{n-1} \\\\\n",
        "  &=   1 + 5*S_{n-1} \n",
        "\\end{array}\n",
        "\n",
        "\n",
        "\n",
        "And without recursion we can define the series as:\n",
        "\n",
        "\\begin{align*}\n",
        " S_{n} &= \\frac{ r^{n+1} - 1}{r -1} \\\\\n",
        " &= \\frac{ 5^{n+1} - 1}{5 -1} \\\\\n",
        "  &= \\frac{ 5^{n+1} - 1}{4} \\\\\n",
        "\\end{align*}"
      ]
    },
    {
      "cell_type": "markdown",
      "metadata": {
        "id": "gnzKU2hbW5vo"
      },
      "source": [
        "Plot:"
      ]
    },
    {
      "cell_type": "code",
      "metadata": {
        "colab": {
          "base_uri": "https://localhost:8080/",
          "height": 636
        },
        "id": "SL0Pm4U9W5vu",
        "outputId": "330116cd-edb1-475a-aaec-ea7714db64a9"
      },
      "source": [
        "n = 15\n",
        "S_n = 0\n",
        "r = 5\n",
        "Serie_S_n= pd.Series(index = range(0,n))\n",
        "Sequence_a_n =pd.Series(index = range(0,n))\n",
        "for i in range(0, 15):\n",
        "  S_n = r*S_n + 1\n",
        "  Serie_S_n[i] = S_n\n",
        "  Sequence_a_n[i] = r**i\n",
        "\n",
        "\n",
        "plt.plot(Serie_S_n, color='blue',label='Serie_S_n')\n",
        "plt.plot(Sequence_a_n, color='green',label='Sequence_a_n')\n",
        "plt.legend()\n"
      ],
      "execution_count": null,
      "outputs": [
        {
          "output_type": "stream",
          "text": [
            "1.0\n",
            "6.0\n",
            "31.0\n",
            "156.0\n",
            "781.0\n",
            "3906.0\n",
            "19531.0\n",
            "97656.0\n",
            "488281.0\n",
            "2441406.0\n",
            "12207031.0\n",
            "61035156.0\n",
            "305175781.0\n",
            "1525878906.0\n",
            "7629394531.0\n"
          ],
          "name": "stdout"
        },
        {
          "output_type": "stream",
          "text": [
            "/usr/local/lib/python3.7/dist-packages/ipykernel_launcher.py:4: DeprecationWarning: The default dtype for empty Series will be 'object' instead of 'float64' in a future version. Specify a dtype explicitly to silence this warning.\n",
            "  after removing the cwd from sys.path.\n",
            "/usr/local/lib/python3.7/dist-packages/ipykernel_launcher.py:5: DeprecationWarning: The default dtype for empty Series will be 'object' instead of 'float64' in a future version. Specify a dtype explicitly to silence this warning.\n",
            "  \"\"\"\n"
          ],
          "name": "stderr"
        },
        {
          "output_type": "execute_result",
          "data": {
            "text/plain": [
              "<matplotlib.legend.Legend at 0x7f67aa909f50>"
            ]
          },
          "metadata": {
            "tags": []
          },
          "execution_count": 132
        },
        {
          "output_type": "display_data",
          "data": {
            "image/png": "[encoded data removed]",
            "text/plain": [
              "<Figure size 432x288 with 1 Axes>"
            ]
          },
          "metadata": {
            "tags": [],
            "needs_background": "light"
          }
        }
      ]
    },
    {
      "cell_type": "markdown",
      "metadata": {
        "id": "Dpx7-f9HYtDK"
      },
      "source": [
        "Doing it by the recursive way, we calculate the 200th number, that is big enough:"
      ]
    },
    {
      "cell_type": "code",
      "metadata": {
        "colab": {
          "base_uri": "https://localhost:8080/"
        },
        "id": "L6RNA4bKYtDV",
        "outputId": "238c4582-4f35-49d5-abc3-af8bfcb2392a"
      },
      "source": [
        "n = 200\n",
        "S_n = 0\n",
        "r = 5\n",
        "for i in range(0, n+1):\n",
        "  S_n = r*S_n + 1\n",
        "S_n"
      ],
      "execution_count": null,
      "outputs": [
        {
          "output_type": "execute_result",
          "data": {
            "text/plain": [
              "77787690973264271339300800672251553007378152109014589163763957684871235425442293014799310289071420211962082369439031026558950543403625488281"
            ]
          },
          "metadata": {
            "tags": []
          },
          "execution_count": 143
        }
      ]
    },
    {
      "cell_type": "markdown",
      "metadata": {
        "id": "BwHAZ-RQYtDX"
      },
      "source": [
        "Doing it by the simplified formula"
      ]
    },
    {
      "cell_type": "code",
      "metadata": {
        "colab": {
          "base_uri": "https://localhost:8080/"
        },
        "id": "rxxLKukCYwbE",
        "outputId": "a0a4b549-a2a5-4539-c5a7-d5dd458464b9"
      },
      "source": [
        "n = 200\n",
        "(5**(n+1)-1)/4"
      ],
      "execution_count": null,
      "outputs": [
        {
          "output_type": "execute_result",
          "data": {
            "text/plain": [
              "7.778769097326427e+139"
            ]
          },
          "metadata": {
            "tags": []
          },
          "execution_count": 142
        }
      ]
    },
    {
      "cell_type": "markdown",
      "metadata": {
        "id": "ztkcsNz0ZZ4R"
      },
      "source": [
        "### Second Example\n",
        "For the second example have an geometric sequence $a$, whose value r = 1/10 therfore, each element of the sequence is defined as:\n",
        "\n",
        "\\begin{align*}\n",
        "a_k &= r^k\\\\\n",
        "&= \\frac{9}{10}^{k} \\\\\n",
        "\\end{align*}\n",
        "\n",
        "Then we then define the series $S$ where\n",
        "\n",
        "$$\n",
        "\\begin{array}{ll}\n",
        "S_n &= S_{n-1}  +r^n\\\\ \n",
        "&= S_{n-1}  +(\\frac{9}{10})^n \n",
        "\\end{array}\n",
        "$$\n",
        "or this other way\n",
        "\\begin{array}{ll}\n",
        "S_n &=  1 + r*S_{n-1} \\\\\n",
        "  &=   1 + \\frac{9}{10}*S_{n-1} \n",
        "\\end{array}\n",
        "\n",
        "\n",
        "\n",
        "And without recursion we can define the series as:\n",
        "\\begin{align*}\n",
        " S_{n} &= \\frac{ 1- r^{n+1}}{1-r} \\\\\n",
        " &= \\frac{ 1- (\\frac{9}{10})^{n+1}}{1-(\\frac{9}{10})} \\\\\n",
        "  &= \\frac{ 1- (\\frac{9}{10})^{n+1}}{\\frac{1}{10}} \\\\\n",
        "&= 10( 1- (\\frac{9}{10})^{n+1}) \\\\\n",
        "\\end{align*}"
      ]
    },
    {
      "cell_type": "markdown",
      "metadata": {
        "id": "Q5K1J6VQZZ4j"
      },
      "source": [
        "Plot:"
      ]
    },
    {
      "cell_type": "code",
      "metadata": {
        "colab": {
          "base_uri": "https://localhost:8080/",
          "height": 370
        },
        "id": "1jx1nZlSZZ4k",
        "outputId": "aabf0ac5-7382-4cbc-a537-96751b6ac661"
      },
      "source": [
        "n = 15\n",
        "S_n = 0\n",
        "r = 9/10\n",
        "Serie_S_n= pd.Series(index = range(0,n))\n",
        "Sequence_a_n =pd.Series(index = range(0,n))\n",
        "for i in range(0, 15):\n",
        "  S_n = r*S_n + 1\n",
        "  Serie_S_n[i] = S_n\n",
        "  Sequence_a_n[i] = r**i\n",
        "\n",
        "\n",
        "plt.plot(Serie_S_n, color='blue',label='Serie_S_n')\n",
        "plt.plot(Sequence_a_n, color='green',label='Sequence_a_n')\n",
        "plt.legend()\n"
      ],
      "execution_count": null,
      "outputs": [
        {
          "output_type": "stream",
          "text": [
            "/usr/local/lib/python3.7/dist-packages/ipykernel_launcher.py:4: DeprecationWarning: The default dtype for empty Series will be 'object' instead of 'float64' in a future version. Specify a dtype explicitly to silence this warning.\n",
            "  after removing the cwd from sys.path.\n",
            "/usr/local/lib/python3.7/dist-packages/ipykernel_launcher.py:5: DeprecationWarning: The default dtype for empty Series will be 'object' instead of 'float64' in a future version. Specify a dtype explicitly to silence this warning.\n",
            "  \"\"\"\n"
          ],
          "name": "stderr"
        },
        {
          "output_type": "execute_result",
          "data": {
            "text/plain": [
              "<matplotlib.legend.Legend at 0x7f67a682e0d0>"
            ]
          },
          "metadata": {
            "tags": []
          },
          "execution_count": 144
        },
        {
          "output_type": "display_data",
          "data": {
            "image/png": "[encoded data removed]",
            "text/plain": [
              "<Figure size 432x288 with 1 Axes>"
            ]
          },
          "metadata": {
            "tags": [],
            "needs_background": "light"
          }
        }
      ]
    },
    {
      "cell_type": "markdown",
      "metadata": {
        "id": "vKh_CWyTc1lG"
      },
      "source": [
        "Doing it by the recursive way, we calculate the 10000000th number, that is big enough:"
      ]
    },
    {
      "cell_type": "code",
      "metadata": {
        "colab": {
          "base_uri": "https://localhost:8080/"
        },
        "id": "7MpWWZ3jc1lb",
        "outputId": "ec2dc933-6dce-4729-de5a-a6d5b9d943dd"
      },
      "source": [
        "n = 10000000\n",
        "S_n = 0\n",
        "r = 9/10\n",
        "for i in range(0, n+1):\n",
        "  S_n = r*S_n + 1\n",
        "S_n"
      ],
      "execution_count": null,
      "outputs": [
        {
          "output_type": "execute_result",
          "data": {
            "text/plain": [
              "9.999999999999995"
            ]
          },
          "metadata": {
            "tags": []
          },
          "execution_count": 150
        }
      ]
    },
    {
      "cell_type": "markdown",
      "metadata": {
        "id": "QbjeRdttdM2x"
      },
      "source": [
        "And now by th simplified equation:"
      ]
    },
    {
      "cell_type": "code",
      "metadata": {
        "colab": {
          "base_uri": "https://localhost:8080/"
        },
        "id": "vmnPG24jdRD6",
        "outputId": "86629137-862e-48e0-9e6b-0895c0cbea1d"
      },
      "source": [
        "n = 10000000\n",
        "10*(1-(9/10)**(n+1))"
      ],
      "execution_count": null,
      "outputs": [
        {
          "output_type": "execute_result",
          "data": {
            "text/plain": [
              "10.0"
            ]
          },
          "metadata": {
            "tags": []
          },
          "execution_count": 151
        }
      ]
    },
    {
      "cell_type": "markdown",
      "metadata": {
        "id": "XRuFbOUUdi4s"
      },
      "source": [
        "As we can see, the values are close to 10, that happens beacuse\n",
        "\\begin{align*}\n",
        "\\lim_{n\\rightarrow \\infty} 10( 1- (\\frac{9}{10})^{n+1}) = 10(1-0) = 10\n",
        "\\end{align*}"
      ]
    },
    {
      "cell_type": "markdown",
      "metadata": {
        "id": "dh2ntBeoNQlN"
      },
      "source": [
        "# Power Sums \n",
        "\n",
        "*   https://mathworld.wolfram.com/PowerSum.html\n",
        "*   https://www.researchgate.net/publication/331933608_The_Powers_Sums_Bernoulli_Numbers_Bernoulli_Polynomials_Rethinked\n",
        "*   https://en.wikipedia.org/wiki/Sums_of_powers\n",
        "\n",
        "\n",
        "There are two kinds of power sums commonly considered. The first is the sum of $p$th powers of a set of $n$ variables $x_k$,\n",
        "\n"
      ]
    },
    {
      "cell_type": "markdown",
      "metadata": {
        "id": "55k3zu7afw7W"
      },
      "source": [
        " There are two kinds of power sums. The first is the sum of $p$th powers of a set of $n$ variables $x_{k}$,\n",
        "\n",
        "$$S_p(x_1,...,x_n)=\\sum_{k=1}^n x_{k}^{p}, $$\t"
      ]
    },
    {
      "cell_type": "markdown",
      "metadata": {
        "id": "nUCPwCUyo2bx"
      },
      "source": [
        "## Example\n",
        "For example if we take $x_{k}$ as the arithmetic sequence when $a_{1} = 2$ and $d = 4$\n",
        "\n",
        "\\begin{align*}\n",
        "a_{n} &= a_{1} + d(n-1)\\\\\n",
        "&= 2 + 4(n-1)\\\\\n",
        "&= 2 + 4n-4\\\\\n",
        "&= 4n - 2\\\\\n",
        "\\end{align*}\n",
        "\n",
        "The power series would $S$ be defined as:\n",
        "\\begin{align*}\n",
        "S_p(a_1,...,a_n)&=\\sum_{k=1}^n a_{k}^{p}\\\\\n",
        "& \\sum_{k=1}^n (4k-2)^{p}\n",
        "\\end{align*}\n",
        "\n",
        "For $p = 2$ we have"
      ]
    },
    {
      "cell_type": "markdown",
      "metadata": {
        "id": "ep0qGXTZsFT1"
      },
      "source": [
        "PLOT"
      ]
    },
    {
      "cell_type": "code",
      "metadata": {
        "colab": {
          "base_uri": "https://localhost:8080/",
          "height": 370
        },
        "id": "21Phgs0psFT3",
        "outputId": "b20b1a49-acd1-4377-f543-650439dff7d2"
      },
      "source": [
        "n = 10\n",
        "S_n = 0\n",
        "p = 2\n",
        "Serie_S_n= pd.Series(index = range(1,n))\n",
        "Sequence_a_n =pd.Series(index = range(1,n))\n",
        "for i in range(1,n+1):\n",
        "  S_n = S_n + (4*i - 2)**2\n",
        "  Serie_S_n[i] = S_n\n",
        "  Sequence_a_n[i] = (4*i - 2)\n",
        " \n",
        "plt.plot(Serie_S_n, color='blue',label='Serie_S_n')\n",
        "plt.plot(Sequence_a_n, color='green',label='Sequence_a_n')\n",
        "plt.legend()"
      ],
      "execution_count": null,
      "outputs": [
        {
          "output_type": "stream",
          "text": [
            "/usr/local/lib/python3.7/dist-packages/ipykernel_launcher.py:4: DeprecationWarning: The default dtype for empty Series will be 'object' instead of 'float64' in a future version. Specify a dtype explicitly to silence this warning.\n",
            "  after removing the cwd from sys.path.\n",
            "/usr/local/lib/python3.7/dist-packages/ipykernel_launcher.py:5: DeprecationWarning: The default dtype for empty Series will be 'object' instead of 'float64' in a future version. Specify a dtype explicitly to silence this warning.\n",
            "  \"\"\"\n"
          ],
          "name": "stderr"
        },
        {
          "output_type": "execute_result",
          "data": {
            "text/plain": [
              "<matplotlib.legend.Legend at 0x7f67a6570150>"
            ]
          },
          "metadata": {
            "tags": []
          },
          "execution_count": 152
        },
        {
          "output_type": "display_data",
          "data": {
            "image/png": "[encoded data removed]",
            "text/plain": [
              "<Figure size 432x288 with 1 Axes>"
            ]
          },
          "metadata": {
            "tags": [],
            "needs_background": "light"
          }
        }
      ]
    },
    {
      "cell_type": "markdown",
      "metadata": {
        "id": "a8XQmMEMs4Vq"
      },
      "source": [
        "For the 10000000th value the series would be "
      ]
    },
    {
      "cell_type": "code",
      "metadata": {
        "colab": {
          "base_uri": "https://localhost:8080/"
        },
        "id": "si_HsFK_tD-C",
        "outputId": "0c39766e-07a4-4563-9d04-5d5faab2c6fb"
      },
      "source": [
        "n = 1000000\n",
        "S_n = 0\n",
        "for i in range(1, n +1):  #range goes form 0 to n\n",
        "  S_n = S_n + 3 + 17*i\n",
        "print(S_n)"
      ],
      "execution_count": null,
      "outputs": [
        {
          "output_type": "stream",
          "text": [
            "8500011500000\n"
          ],
          "name": "stdout"
        }
      ]
    },
    {
      "cell_type": "markdown",
      "metadata": {
        "id": "N-XyzGfroxtY"
      },
      "source": [
        "and the second is the special case $x_{k}=k$, i.e.,\n",
        "$$S_p(n)=\\sum_{k=1}^n k^{p} $$\n",
        "\n",
        "Computing the sums for $p=1,...,5$ gives\n",
        "\n",
        "p=1\n",
        "$$\\sum_{k=1}^{n}k\t=\t\\frac{1}{2}(n^{2}+n)$$\n",
        "p=2\n",
        "$$\\sum_{k=1}^{n}k^{2}\t=\t\\frac{1}{6}(2n^{3}+3n^{2}+n)$$\n",
        "p=3\n",
        "$$\\sum_{k=1}^{n}k^{3}\t=\t\\frac{1}{4}(n^{4}+2n^{3}+n^{2})$$\t\n",
        "p=4\n",
        "$$\\sum_{k=1}^{n}k^{4}\t=\t\\frac{1}{30}(6n^{5}+15n^{4}+10n^{3}-n)$$\t\n",
        "p=5\n",
        "$$\\sum_{k=1}^{n}k^{5}\t=\t\\frac{1}{12}(2n^{6}+6n^{5}+5n^{4}-n^{2})$$\t\n",
        "\n",
        "or in factored form,\n",
        "\n",
        "p=1\n",
        "\n",
        "$$\\sum_{k=1}^{n}k\t=\t\\frac{1}{2}n(n+1)$$\n",
        "p=2\n",
        "$$\\sum_{k=1}^{n}k^{2}\t=\t\\frac{1}{6}n(n+1)(2n+1)\t$$\n",
        "p=3\n",
        "$$\\sum_{k=1}^{n}k^{3}\t=\t\\frac{1}{4}n^{2}(n+1)^{2}$$\t\n",
        "p=4\n",
        "$$\\sum_{k=1}^{n}k^{4}\t=\t\\frac{1}{30}n(n+1)(2n+1)(3n^{2}+3n-1)\t$$\n",
        "p=5\n",
        "$$\\sum_{k=1}^{n}k^{5}\t=\t\\frac{1}{12}n^{2}(n+1)^{2}(2n^{2}+2n-1)\t$$\n"
      ]
    },
    {
      "cell_type": "markdown",
      "metadata": {
        "id": "yHrG69hythHz"
      },
      "source": [
        "# Example\n",
        "\n",
        "For example, if we take p as 5"
      ]
    },
    {
      "cell_type": "code",
      "metadata": {
        "colab": {
          "base_uri": "https://localhost:8080/",
          "height": 381
        },
        "id": "4M-x9iTStghM",
        "outputId": "1d4709d5-ff39-4163-e2fa-b436e2a67d31"
      },
      "source": [
        "import matplotlib.pyplot as plt\n",
        "\n",
        "n = 15\n",
        "S_n = 0\n",
        "p=5\n",
        "Serie_S_n= pd.Series(index = range(1,n))\n",
        "Sequence_a_n =pd.Series(index = range(1,n))\n",
        "for i in range(1,n+1):\n",
        "  S_n = S_n + (i)**p\n",
        "  Serie_S_n[i] = S_n\n",
        "  Sequence_a_n[i] = i\n",
        " \n",
        "plt.plot(Serie_S_n, color='blue',label='Serie_S_n')\n",
        "plt.plot(Sequence_a_n, color='green',label='Sequence_x_n')\n",
        "plt.legend()\n"
      ],
      "execution_count": null,
      "outputs": [
        {
          "output_type": "stream",
          "text": [
            "/usr/local/lib/python3.7/dist-packages/ipykernel_launcher.py:6: DeprecationWarning: The default dtype for empty Series will be 'object' instead of 'float64' in a future version. Specify a dtype explicitly to silence this warning.\n",
            "  \n",
            "/usr/local/lib/python3.7/dist-packages/ipykernel_launcher.py:7: DeprecationWarning: The default dtype for empty Series will be 'object' instead of 'float64' in a future version. Specify a dtype explicitly to silence this warning.\n",
            "  import sys\n"
          ],
          "name": "stderr"
        },
        {
          "output_type": "execute_result",
          "data": {
            "text/plain": [
              "<matplotlib.legend.Legend at 0x7f67a5ebc390>"
            ]
          },
          "metadata": {
            "tags": []
          },
          "execution_count": 157
        },
        {
          "output_type": "display_data",
          "data": {
            "image/png": "[encoded data removed]",
            "text/plain": [
              "<Figure size 432x288 with 1 Axes>"
            ]
          },
          "metadata": {
            "tags": [],
            "needs_background": "light"
          }
        }
      ]
    },
    {
      "cell_type": "markdown",
      "metadata": {
        "id": "lsecHAaFyrcU"
      },
      "source": [
        "When we calculate it's 10000000th value by the recursive way"
      ]
    },
    {
      "cell_type": "code",
      "metadata": {
        "colab": {
          "base_uri": "https://localhost:8080/"
        },
        "id": "iJb3wDi_yrcX",
        "outputId": "f8f6a40c-27d8-4ccf-e31e-7b53edfd02b3"
      },
      "source": [
        "n = 10000000\n",
        "S_n = 0\n",
        "p = 5 \n",
        "for i in range(1, n +1):  #range goes form 0 to n\n",
        "  S_n = S_n + i**p\n",
        "print(S_n)"
      ],
      "execution_count": null,
      "outputs": [
        {
          "output_type": "stream",
          "text": [
            "166666716666670833333333333325000000000000\n"
          ],
          "name": "stdout"
        }
      ]
    },
    {
      "cell_type": "markdown",
      "metadata": {
        "id": "ju17I3GcyrcZ"
      },
      "source": [
        "Or by the simplified formulas"
      ]
    },
    {
      "cell_type": "code",
      "metadata": {
        "colab": {
          "base_uri": "https://localhost:8080/"
        },
        "id": "-m-KcASay1VQ",
        "outputId": "24f2ee30-f5ad-4b14-b6ff-41bfaf0a3cf3"
      },
      "source": [
        "n = 10000000\n",
        "print((1/12)*(2*n**6 + 6*n**5 + 5*n**4 - n**2))\n",
        "print((1/12)*(n**2)*((n+1)**2)*(2*n**2 + 2*n -1))"
      ],
      "execution_count": null,
      "outputs": [
        {
          "output_type": "stream",
          "text": [
            "1.6666671666667083e+41\n",
            "1.6666671666667082e+41\n"
          ],
          "name": "stdout"
        }
      ]
    }
  ]
}